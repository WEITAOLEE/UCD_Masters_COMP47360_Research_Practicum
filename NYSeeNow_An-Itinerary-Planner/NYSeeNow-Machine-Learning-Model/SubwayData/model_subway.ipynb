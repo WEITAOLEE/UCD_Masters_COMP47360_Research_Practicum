{
 "cells": [
  {
   "cell_type": "markdown",
   "metadata": {},
   "source": [
    "## This notebook will run and analyse the Model for the Subway Data\n"
   ]
  },
  {
   "cell_type": "markdown",
   "metadata": {},
   "source": [
    "## Random forest model training"
   ]
  },
  {
   "cell_type": "code",
   "execution_count": 3,
   "metadata": {},
   "outputs": [],
   "source": [
    "import pandas as pd\n",
    "import numpy as np\n",
    "import seaborn as sea\n",
    "import matplotlib.pyplot as plt\n",
    "import pickle\n",
    "from sklearn.ensemble import  RandomForestRegressor\n",
    "from sklearn.model_selection import train_test_split \n",
    "from sklearn.metrics import mean_absolute_error, mean_squared_error, r2_score\n",
    "from sklearn.model_selection import ShuffleSplit\n",
    "from sklearn.linear_model import LinearRegression\n",
    "from sklearn.ensemble import GradientBoostingRegressor\n",
    "from xgboost import XGBRegressor\n",
    "\n"
   ]
  },
  {
   "cell_type": "code",
   "execution_count": 4,
   "metadata": {},
   "outputs": [],
   "source": [
    "##Writing installed packages to requirements.txt file\n",
    "!pip freeze > subway_requirements.txt"
   ]
  },
  {
   "cell_type": "code",
   "execution_count": 5,
   "metadata": {},
   "outputs": [
    {
     "data": {
      "text/html": [
       "<div>\n",
       "<style scoped>\n",
       "    .dataframe tbody tr th:only-of-type {\n",
       "        vertical-align: middle;\n",
       "    }\n",
       "\n",
       "    .dataframe tbody tr th {\n",
       "        vertical-align: top;\n",
       "    }\n",
       "\n",
       "    .dataframe thead th {\n",
       "        text-align: right;\n",
       "    }\n",
       "</style>\n",
       "<table border=\"1\" class=\"dataframe\">\n",
       "  <thead>\n",
       "    <tr style=\"text-align: right;\">\n",
       "      <th></th>\n",
       "      <th>remote_unit_id</th>\n",
       "      <th>time_stamp</th>\n",
       "      <th>entries</th>\n",
       "      <th>exits</th>\n",
       "      <th>sum_exit_entry</th>\n",
       "      <th>station_busyness</th>\n",
       "      <th>hour</th>\n",
       "      <th>day</th>\n",
       "      <th>month</th>\n",
       "      <th>temperature</th>\n",
       "      <th>weather</th>\n",
       "      <th>rain_fall</th>\n",
       "      <th>snow_fall</th>\n",
       "      <th>station_category</th>\n",
       "    </tr>\n",
       "  </thead>\n",
       "  <tbody>\n",
       "    <tr>\n",
       "      <th>0</th>\n",
       "      <td>1</td>\n",
       "      <td>1546315200</td>\n",
       "      <td>102</td>\n",
       "      <td>104</td>\n",
       "      <td>206</td>\n",
       "      <td>0</td>\n",
       "      <td>4</td>\n",
       "      <td>Tuesday</td>\n",
       "      <td>January</td>\n",
       "      <td>5.89</td>\n",
       "      <td>Rain</td>\n",
       "      <td>3.77</td>\n",
       "      <td>2.21</td>\n",
       "      <td>1</td>\n",
       "    </tr>\n",
       "    <tr>\n",
       "      <th>1</th>\n",
       "      <td>1</td>\n",
       "      <td>1546329600</td>\n",
       "      <td>96</td>\n",
       "      <td>51</td>\n",
       "      <td>147</td>\n",
       "      <td>0</td>\n",
       "      <td>8</td>\n",
       "      <td>Tuesday</td>\n",
       "      <td>January</td>\n",
       "      <td>11.18</td>\n",
       "      <td>Mist</td>\n",
       "      <td>0.00</td>\n",
       "      <td>0.12</td>\n",
       "      <td>1</td>\n",
       "    </tr>\n",
       "    <tr>\n",
       "      <th>2</th>\n",
       "      <td>1</td>\n",
       "      <td>1546344000</td>\n",
       "      <td>260</td>\n",
       "      <td>476</td>\n",
       "      <td>736</td>\n",
       "      <td>0</td>\n",
       "      <td>12</td>\n",
       "      <td>Tuesday</td>\n",
       "      <td>January</td>\n",
       "      <td>13.55</td>\n",
       "      <td>Rain</td>\n",
       "      <td>0.25</td>\n",
       "      <td>0.06</td>\n",
       "      <td>1</td>\n",
       "    </tr>\n",
       "    <tr>\n",
       "      <th>3</th>\n",
       "      <td>1</td>\n",
       "      <td>1546358400</td>\n",
       "      <td>540</td>\n",
       "      <td>496</td>\n",
       "      <td>1036</td>\n",
       "      <td>0</td>\n",
       "      <td>16</td>\n",
       "      <td>Tuesday</td>\n",
       "      <td>January</td>\n",
       "      <td>11.68</td>\n",
       "      <td>Rain</td>\n",
       "      <td>0.50</td>\n",
       "      <td>0.25</td>\n",
       "      <td>1</td>\n",
       "    </tr>\n",
       "    <tr>\n",
       "      <th>4</th>\n",
       "      <td>1</td>\n",
       "      <td>1546372800</td>\n",
       "      <td>602</td>\n",
       "      <td>250</td>\n",
       "      <td>852</td>\n",
       "      <td>0</td>\n",
       "      <td>20</td>\n",
       "      <td>Tuesday</td>\n",
       "      <td>January</td>\n",
       "      <td>3.70</td>\n",
       "      <td>Clouds</td>\n",
       "      <td>0.00</td>\n",
       "      <td>0.05</td>\n",
       "      <td>1</td>\n",
       "    </tr>\n",
       "    <tr>\n",
       "      <th>5</th>\n",
       "      <td>1</td>\n",
       "      <td>1546387200</td>\n",
       "      <td>159</td>\n",
       "      <td>147</td>\n",
       "      <td>306</td>\n",
       "      <td>0</td>\n",
       "      <td>0</td>\n",
       "      <td>Wednesday</td>\n",
       "      <td>January</td>\n",
       "      <td>2.05</td>\n",
       "      <td>Clouds</td>\n",
       "      <td>0.00</td>\n",
       "      <td>0.00</td>\n",
       "      <td>1</td>\n",
       "    </tr>\n",
       "    <tr>\n",
       "      <th>6</th>\n",
       "      <td>1</td>\n",
       "      <td>1546401600</td>\n",
       "      <td>48</td>\n",
       "      <td>38</td>\n",
       "      <td>86</td>\n",
       "      <td>0</td>\n",
       "      <td>4</td>\n",
       "      <td>Wednesday</td>\n",
       "      <td>January</td>\n",
       "      <td>-0.06</td>\n",
       "      <td>Clouds</td>\n",
       "      <td>0.00</td>\n",
       "      <td>0.00</td>\n",
       "      <td>1</td>\n",
       "    </tr>\n",
       "    <tr>\n",
       "      <th>7</th>\n",
       "      <td>1</td>\n",
       "      <td>1546416000</td>\n",
       "      <td>516</td>\n",
       "      <td>434</td>\n",
       "      <td>950</td>\n",
       "      <td>0</td>\n",
       "      <td>8</td>\n",
       "      <td>Wednesday</td>\n",
       "      <td>January</td>\n",
       "      <td>-2.08</td>\n",
       "      <td>Clear</td>\n",
       "      <td>0.00</td>\n",
       "      <td>0.00</td>\n",
       "      <td>1</td>\n",
       "    </tr>\n",
       "    <tr>\n",
       "      <th>8</th>\n",
       "      <td>1</td>\n",
       "      <td>1546430400</td>\n",
       "      <td>842</td>\n",
       "      <td>1351</td>\n",
       "      <td>2193</td>\n",
       "      <td>100</td>\n",
       "      <td>12</td>\n",
       "      <td>Wednesday</td>\n",
       "      <td>January</td>\n",
       "      <td>-1.89</td>\n",
       "      <td>Clear</td>\n",
       "      <td>0.00</td>\n",
       "      <td>0.00</td>\n",
       "      <td>4</td>\n",
       "    </tr>\n",
       "    <tr>\n",
       "      <th>9</th>\n",
       "      <td>1</td>\n",
       "      <td>1546444800</td>\n",
       "      <td>784</td>\n",
       "      <td>456</td>\n",
       "      <td>1240</td>\n",
       "      <td>10</td>\n",
       "      <td>16</td>\n",
       "      <td>Wednesday</td>\n",
       "      <td>January</td>\n",
       "      <td>0.04</td>\n",
       "      <td>Clear</td>\n",
       "      <td>0.00</td>\n",
       "      <td>0.00</td>\n",
       "      <td>1</td>\n",
       "    </tr>\n",
       "  </tbody>\n",
       "</table>\n",
       "</div>"
      ],
      "text/plain": [
       "   remote_unit_id  time_stamp  entries  exits  sum_exit_entry  \\\n",
       "0               1  1546315200      102    104             206   \n",
       "1               1  1546329600       96     51             147   \n",
       "2               1  1546344000      260    476             736   \n",
       "3               1  1546358400      540    496            1036   \n",
       "4               1  1546372800      602    250             852   \n",
       "5               1  1546387200      159    147             306   \n",
       "6               1  1546401600       48     38              86   \n",
       "7               1  1546416000      516    434             950   \n",
       "8               1  1546430400      842   1351            2193   \n",
       "9               1  1546444800      784    456            1240   \n",
       "\n",
       "   station_busyness  hour        day    month  temperature weather  rain_fall  \\\n",
       "0                 0     4    Tuesday  January         5.89    Rain       3.77   \n",
       "1                 0     8    Tuesday  January        11.18    Mist       0.00   \n",
       "2                 0    12    Tuesday  January        13.55    Rain       0.25   \n",
       "3                 0    16    Tuesday  January        11.68    Rain       0.50   \n",
       "4                 0    20    Tuesday  January         3.70  Clouds       0.00   \n",
       "5                 0     0  Wednesday  January         2.05  Clouds       0.00   \n",
       "6                 0     4  Wednesday  January        -0.06  Clouds       0.00   \n",
       "7                 0     8  Wednesday  January        -2.08   Clear       0.00   \n",
       "8               100    12  Wednesday  January        -1.89   Clear       0.00   \n",
       "9                10    16  Wednesday  January         0.04   Clear       0.00   \n",
       "\n",
       "   snow_fall  station_category  \n",
       "0       2.21                 1  \n",
       "1       0.12                 1  \n",
       "2       0.06                 1  \n",
       "3       0.25                 1  \n",
       "4       0.05                 1  \n",
       "5       0.00                 1  \n",
       "6       0.00                 1  \n",
       "7       0.00                 1  \n",
       "8       0.00                 4  \n",
       "9       0.00                 1  "
      ]
     },
     "execution_count": 5,
     "metadata": {},
     "output_type": "execute_result"
    }
   ],
   "source": [
    "#import the csv file needed to train the model\n",
    "df=pd.read_csv('cleaned_busyness_data.csv')\n",
    "df.head(10)"
   ]
  },
  {
   "cell_type": "code",
   "execution_count": 6,
   "metadata": {},
   "outputs": [],
   "source": [
    "#convert monthand day to numerical columns\n",
    "df['month']=df['month'].map({'January':1,'February':2,'March':3,'April':4,'May':5,'June':6,\n",
    "                                'July':7,'August':8,'September':9,'October':10,'November':11,'December':12})\n",
    "df['day']=df['day'].map({'Monday':1,'Tuesday':2,'Wednesday':3,'Thursday':4,'Friday':5,'Saturday':6,'Sunday':7})\n"
   ]
  },
  {
   "cell_type": "code",
   "execution_count": 7,
   "metadata": {},
   "outputs": [],
   "source": [
    "#convert weather and station busyness category to categorical columns\n",
    "df['weather']=df['weather'].astype('category')"
   ]
  },
  {
   "cell_type": "code",
   "execution_count": 8,
   "metadata": {},
   "outputs": [
    {
     "name": "stdout",
     "output_type": "stream",
     "text": [
      "<class 'pandas.core.frame.DataFrame'>\n",
      "RangeIndex: 287399 entries, 0 to 287398\n",
      "Data columns (total 14 columns):\n",
      " #   Column            Non-Null Count   Dtype   \n",
      "---  ------            --------------   -----   \n",
      " 0   remote_unit_id    287399 non-null  int64   \n",
      " 1   time_stamp        287399 non-null  int64   \n",
      " 2   entries           287399 non-null  int64   \n",
      " 3   exits             287399 non-null  int64   \n",
      " 4   sum_exit_entry    287399 non-null  int64   \n",
      " 5   station_busyness  287399 non-null  int64   \n",
      " 6   hour              287399 non-null  int64   \n",
      " 7   day               287399 non-null  int64   \n",
      " 8   month             287399 non-null  int64   \n",
      " 9   temperature       287399 non-null  float64 \n",
      " 10  weather           287399 non-null  category\n",
      " 11  rain_fall         287399 non-null  float64 \n",
      " 12  snow_fall         287399 non-null  float64 \n",
      " 13  station_category  287399 non-null  int64   \n",
      "dtypes: category(1), float64(3), int64(10)\n",
      "memory usage: 28.8 MB\n"
     ]
    }
   ],
   "source": [
    "df.info()"
   ]
  },
  {
   "cell_type": "markdown",
   "metadata": {},
   "source": [
    "### Create a correlation matrix to see strength of correlations between feature pairs"
   ]
  },
  {
   "cell_type": "code",
   "execution_count": 9,
   "metadata": {},
   "outputs": [
    {
     "name": "stderr",
     "output_type": "stream",
     "text": [
      "/tmp/ipykernel_86169/2506163149.py:1: FutureWarning: The default value of numeric_only in DataFrame.corr is deprecated. In a future version, it will default to False. Select only valid columns or specify the value of numeric_only to silence this warning.\n",
      "  mat=df.corr()\n"
     ]
    },
    {
     "data": {
      "image/png": "[encoded data removed]",
      "text/plain": [
       "<Figure size 1200x1000 with 2 Axes>"
      ]
     },
     "metadata": {},
     "output_type": "display_data"
    }
   ],
   "source": [
    "mat=df.corr()\n",
    "\n",
    "# create a mask to drop the upper triangle\n",
    "mask = np.triu(np.ones_like(mat, dtype=bool))\n",
    "\n",
    "# apply the mask to the correlation matrix\n",
    "mat = mat.where(mask)\n",
    "\n",
    "fig, ax = plt.subplots(figsize=(12, 10))\n",
    "\n",
    "sea.heatmap(mat, annot=True, cmap='coolwarm', ax=ax)\n",
    "\n",
    "# show the plot\n",
    "plt.show()"
   ]
  },
  {
   "cell_type": "code",
   "execution_count": 10,
   "metadata": {},
   "outputs": [
    {
     "data": {
      "text/plain": [
       "Index(['remote_unit_id', 'time_stamp', 'entries', 'exits', 'sum_exit_entry',\n",
       "       'station_busyness', 'hour', 'day', 'month', 'temperature', 'weather',\n",
       "       'rain_fall', 'snow_fall', 'station_category'],\n",
       "      dtype='object')"
      ]
     },
     "execution_count": 10,
     "metadata": {},
     "output_type": "execute_result"
    }
   ],
   "source": [
    "df.columns"
   ]
  },
  {
   "cell_type": "markdown",
   "metadata": {},
   "source": [
    "## One hot encoding for categorical features\n"
   ]
  },
  {
   "cell_type": "code",
   "execution_count": 11,
   "metadata": {},
   "outputs": [],
   "source": [
    "one_hot = pd.get_dummies(df['weather'])\n",
    "df = pd.concat([df, one_hot], axis = 1)"
   ]
  },
  {
   "cell_type": "code",
   "execution_count": 12,
   "metadata": {},
   "outputs": [
    {
     "data": {
      "text/html": [
       "<div>\n",
       "<style scoped>\n",
       "    .dataframe tbody tr th:only-of-type {\n",
       "        vertical-align: middle;\n",
       "    }\n",
       "\n",
       "    .dataframe tbody tr th {\n",
       "        vertical-align: top;\n",
       "    }\n",
       "\n",
       "    .dataframe thead th {\n",
       "        text-align: right;\n",
       "    }\n",
       "</style>\n",
       "<table border=\"1\" class=\"dataframe\">\n",
       "  <thead>\n",
       "    <tr style=\"text-align: right;\">\n",
       "      <th></th>\n",
       "      <th>remote_unit_id</th>\n",
       "      <th>time_stamp</th>\n",
       "      <th>entries</th>\n",
       "      <th>exits</th>\n",
       "      <th>sum_exit_entry</th>\n",
       "      <th>station_busyness</th>\n",
       "      <th>hour</th>\n",
       "      <th>day</th>\n",
       "      <th>month</th>\n",
       "      <th>temperature</th>\n",
       "      <th>...</th>\n",
       "      <th>Clear</th>\n",
       "      <th>Clouds</th>\n",
       "      <th>Drizzle</th>\n",
       "      <th>Fog</th>\n",
       "      <th>Haze</th>\n",
       "      <th>Mist</th>\n",
       "      <th>Rain</th>\n",
       "      <th>Smoke</th>\n",
       "      <th>Snow</th>\n",
       "      <th>Thunderstorm</th>\n",
       "    </tr>\n",
       "  </thead>\n",
       "  <tbody>\n",
       "    <tr>\n",
       "      <th>0</th>\n",
       "      <td>1</td>\n",
       "      <td>1546315200</td>\n",
       "      <td>102</td>\n",
       "      <td>104</td>\n",
       "      <td>206</td>\n",
       "      <td>0</td>\n",
       "      <td>4</td>\n",
       "      <td>2</td>\n",
       "      <td>1</td>\n",
       "      <td>5.89</td>\n",
       "      <td>...</td>\n",
       "      <td>0</td>\n",
       "      <td>0</td>\n",
       "      <td>0</td>\n",
       "      <td>0</td>\n",
       "      <td>0</td>\n",
       "      <td>0</td>\n",
       "      <td>1</td>\n",
       "      <td>0</td>\n",
       "      <td>0</td>\n",
       "      <td>0</td>\n",
       "    </tr>\n",
       "    <tr>\n",
       "      <th>1</th>\n",
       "      <td>1</td>\n",
       "      <td>1546329600</td>\n",
       "      <td>96</td>\n",
       "      <td>51</td>\n",
       "      <td>147</td>\n",
       "      <td>0</td>\n",
       "      <td>8</td>\n",
       "      <td>2</td>\n",
       "      <td>1</td>\n",
       "      <td>11.18</td>\n",
       "      <td>...</td>\n",
       "      <td>0</td>\n",
       "      <td>0</td>\n",
       "      <td>0</td>\n",
       "      <td>0</td>\n",
       "      <td>0</td>\n",
       "      <td>1</td>\n",
       "      <td>0</td>\n",
       "      <td>0</td>\n",
       "      <td>0</td>\n",
       "      <td>0</td>\n",
       "    </tr>\n",
       "    <tr>\n",
       "      <th>2</th>\n",
       "      <td>1</td>\n",
       "      <td>1546344000</td>\n",
       "      <td>260</td>\n",
       "      <td>476</td>\n",
       "      <td>736</td>\n",
       "      <td>0</td>\n",
       "      <td>12</td>\n",
       "      <td>2</td>\n",
       "      <td>1</td>\n",
       "      <td>13.55</td>\n",
       "      <td>...</td>\n",
       "      <td>0</td>\n",
       "      <td>0</td>\n",
       "      <td>0</td>\n",
       "      <td>0</td>\n",
       "      <td>0</td>\n",
       "      <td>0</td>\n",
       "      <td>1</td>\n",
       "      <td>0</td>\n",
       "      <td>0</td>\n",
       "      <td>0</td>\n",
       "    </tr>\n",
       "    <tr>\n",
       "      <th>3</th>\n",
       "      <td>1</td>\n",
       "      <td>1546358400</td>\n",
       "      <td>540</td>\n",
       "      <td>496</td>\n",
       "      <td>1036</td>\n",
       "      <td>0</td>\n",
       "      <td>16</td>\n",
       "      <td>2</td>\n",
       "      <td>1</td>\n",
       "      <td>11.68</td>\n",
       "      <td>...</td>\n",
       "      <td>0</td>\n",
       "      <td>0</td>\n",
       "      <td>0</td>\n",
       "      <td>0</td>\n",
       "      <td>0</td>\n",
       "      <td>0</td>\n",
       "      <td>1</td>\n",
       "      <td>0</td>\n",
       "      <td>0</td>\n",
       "      <td>0</td>\n",
       "    </tr>\n",
       "    <tr>\n",
       "      <th>4</th>\n",
       "      <td>1</td>\n",
       "      <td>1546372800</td>\n",
       "      <td>602</td>\n",
       "      <td>250</td>\n",
       "      <td>852</td>\n",
       "      <td>0</td>\n",
       "      <td>20</td>\n",
       "      <td>2</td>\n",
       "      <td>1</td>\n",
       "      <td>3.70</td>\n",
       "      <td>...</td>\n",
       "      <td>0</td>\n",
       "      <td>1</td>\n",
       "      <td>0</td>\n",
       "      <td>0</td>\n",
       "      <td>0</td>\n",
       "      <td>0</td>\n",
       "      <td>0</td>\n",
       "      <td>0</td>\n",
       "      <td>0</td>\n",
       "      <td>0</td>\n",
       "    </tr>\n",
       "  </tbody>\n",
       "</table>\n",
       "<p>5 rows × 24 columns</p>\n",
       "</div>"
      ],
      "text/plain": [
       "   remote_unit_id  time_stamp  entries  exits  sum_exit_entry  \\\n",
       "0               1  1546315200      102    104             206   \n",
       "1               1  1546329600       96     51             147   \n",
       "2               1  1546344000      260    476             736   \n",
       "3               1  1546358400      540    496            1036   \n",
       "4               1  1546372800      602    250             852   \n",
       "\n",
       "   station_busyness  hour  day  month  temperature  ... Clear  Clouds  \\\n",
       "0                 0     4    2      1         5.89  ...     0       0   \n",
       "1                 0     8    2      1        11.18  ...     0       0   \n",
       "2                 0    12    2      1        13.55  ...     0       0   \n",
       "3                 0    16    2      1        11.68  ...     0       0   \n",
       "4                 0    20    2      1         3.70  ...     0       1   \n",
       "\n",
       "   Drizzle  Fog  Haze  Mist  Rain  Smoke  Snow  Thunderstorm  \n",
       "0        0    0     0     0     1      0     0             0  \n",
       "1        0    0     0     1     0      0     0             0  \n",
       "2        0    0     0     0     1      0     0             0  \n",
       "3        0    0     0     0     1      0     0             0  \n",
       "4        0    0     0     0     0      0     0             0  \n",
       "\n",
       "[5 rows x 24 columns]"
      ]
     },
     "execution_count": 12,
     "metadata": {},
     "output_type": "execute_result"
    }
   ],
   "source": [
    "df.head()"
   ]
  },
  {
   "cell_type": "markdown",
   "metadata": {},
   "source": [
    "## Functions to train the models"
   ]
  },
  {
   "cell_type": "markdown",
   "metadata": {},
   "source": [
    "- Choose either the busyness percentages or the actual footfall values\n",
    "- For Busyness percentages use random forest classifer, for actual footfall values use random forest regressor\n"
   ]
  },
  {
   "cell_type": "code",
   "execution_count": 13,
   "metadata": {},
   "outputs": [],
   "source": [
    "def divide_data_station_busy(station_number, dataframe):\n",
    "    df_inner = dataframe[dataframe['remote_unit_id'] == station_number].copy()\n",
    "    #print(df_main)\n",
    "    y=df_inner['station_busyness'].values\n",
    "    #drop these values for query search\n",
    "    df_inner=df_inner.drop(columns=['sum_exit_entry','station_busyness','remote_unit_id','station_category'])\n",
    "    X = df_inner.values\n",
    "    \n",
    "    # Split the data into train and test sets- alter this later to be tested on last 3 months? \n",
    "    X_train, X_test, y_train, y_test = train_test_split(X, y, test_size=0.3, random_state=42)\n",
    "\n",
    "    #print(X_train, y_test)\n",
    "\n",
    "    return df_inner, X_train, y_train, X_test, y_test\n",
    "\n",
    "test_pred=[]\n",
    "actual_pred=[]\n",
    "\n",
    "test_mae_list = []\n",
    "test_mape_list=[]\n",
    "test_medae_list=[]\n",
    "test_median_ape_list= []\n",
    "test_rrmse_list=[]\n",
    "test_score_list = []\n",
    "\n",
    "\n",
    "def forest_training_model(train_x, train_y, test_x, test_y):\n",
    "    #expirement with different parameters here\n",
    "    forest = RandomForestRegressor(n_estimators=80, max_depth=10)\n",
    "    forest = forest.fit(train_x, train_y)\n",
    "\n",
    "    test_predictions = forest.predict(test_x)\n",
    "    test_pred.append(test_predictions)\n",
    "    actual_pred.append(test_y)\n",
    "\n",
    "    test_mae = mean_absolute_error(test_y, test_predictions)\n",
    "    test_mae_list.append(test_mae)\n",
    "\n",
    "    test_mape = calculate_mape(test_y, test_predictions)\n",
    "    test_mape_list.append(test_mape)\n",
    "\n",
    "    test_medae = median_absolute_error(test_y, test_predictions)\n",
    "    test_medae_list.append(test_medae)\n",
    "\n",
    "    test_median_ape = median_absolute_percentage_error(test_y, test_predictions)\n",
    "    test_median_ape_list.append(test_median_ape)\n",
    "\n",
    "    test_rmse = np.sqrt(mean_squared_error(test_y, test_predictions))\n",
    "    test_rrmse = test_rmse / np.mean(test_y)\n",
    "    test_rrmse_list.append(test_rrmse)\n",
    "\n",
    "    test_r2 = r2_score(test_y, test_predictions)\n",
    "    test_score_list.append(test_r2)\n",
    "\n",
    "    return forest\n",
    "\n",
    "\n",
    "def calculate_mape(actual, predicted):\n",
    "    # Calculate MAPE while handling zero values in actual\n",
    "    mape = np.mean(np.abs((actual - predicted) / np.where(actual == 0, 1, actual)))\n",
    "    return mape\n",
    "\n",
    "def median_absolute_error(actual, predicted):\n",
    "    absolute_errors = np.abs(actual - predicted)\n",
    "    medae = np.median(absolute_errors)\n",
    "    return medae\n",
    "\n",
    "def median_absolute_percentage_error(actual,predicted):\n",
    "    absolute_percentage_errors = np.abs((actual - predicted) / np.where(actual == 0, 1, actual))\n",
    "    median_ape = np.median(absolute_percentage_errors)\n",
    "    return median_ape\n"
   ]
  },
  {
   "cell_type": "code",
   "execution_count": 14,
   "metadata": {},
   "outputs": [],
   "source": [
    "# define function to perform cross-validation\n",
    "def cross_val(model, X, y, cv=10):\n",
    "    \"\"\"Function to run the cross validation on the model\"\"\"\n",
    "    results = pd.DataFrame(columns = ['accuracy','precision','recall', 'f1'])\n",
    "    cv = ShuffleSplit(n_splits=cv, test_size=0.3, random_state=0)\n",
    "    for train_index, test_index in cv.split(X):\n",
    "        X_train, X_test = X.iloc[list(train_index)], X.iloc[list(test_index)]\n",
    "        y_train, y_test = y.iloc[list(train_index)], y.iloc[list(test_index)]\n",
    "\n",
    "        model_instance = model().fit(X_train, y_train)\n",
    "        \n",
    "        test_predictions = model_instance.predict(X_test)\n",
    "\n",
    "        mae = mean_absolute_error(y_test, test_predictions)\n",
    "\n",
    "        mape = calculate_mape(y_test, test_predictions)\n",
    "\n",
    "        medae = median_absolute_error(y_test, test_predictions)\n",
    "\n",
    "        median_ape = median_absolute_percentage_error(y_test, test_predictions)\n",
    "\n",
    "        test_rmse = np.sqrt(mean_squared_error(y_test, test_predictions))\n",
    "        rrmse = test_rmse / np.mean(y_test)\n",
    "\n",
    "        r2 = r2_score(y_test, test_predictions)\n",
    "\n",
    "        new_row = {\"MAE\": mae, \"MAPE\": mape, \"MedAE\": medae, \"MedAPE\": median_ape, \"RRMSE\": rrmse, \"R2\": r2}\n",
    "        results = pd.concat([results, pd.DataFrame(new_row, index=[0])], ignore_index=True)\n",
    "    return results.describe(), test_predictions\n",
    "\n",
    "\n",
    "# define function to perform cross-validation on different types of models\n",
    "def cross_val_report(model,X,y,cv=10):\n",
    "    \"\"\"Function to perform cross validation on different types of models\"\"\"\n",
    "    df,pred = cross_val(model, X,y, cv=cv)\n",
    "    df_out = pd.concat([df], axis=1, keys=['random'])\n",
    "    return df_out"
   ]
  },
  {
   "cell_type": "markdown",
   "metadata": {},
   "source": [
    "## Description of the error metrics:\n",
    "\n",
    "### Mean Absolute Error:\n",
    "- This is the average of the absolute value of the errors between the predicted values and the actual values. This is the most intuitive of the metrics and is the easiest to understand. However, it is also the most sensitive to outliers.\n",
    "\n",
    "### Mean Absolute Percentage Error:\n",
    "- This is the average of the absolute percentage errors between the predicted values and the actual values. This metric is similar to the MAE, but it is a relative metric which is useful for comparing the performance of these models.\n",
    "\n",
    "### Median Absolute Error:\n",
    "- This is the median of the absolute value of the errors between the predicted values and the actual values. This metric is similar to the MAE, but it is more robust to outliers.\n",
    "### Median Absolute Percentage Error:\n",
    "- This is the median of the absolute percentage errors between the predicted values and the actual values. This metric is similar to the MAPE, but it is more robust to outliers.\n",
    "\n",
    "### Relative Root Mean Squared Error:\n",
    "- This is the RMSE divided by the standard deviation of the dependent variable. This metric is similar to the RMSE, but it is a relative metric which is useful for comparing the performance of these models.\n",
    "\n",
    "### R2 Score:\n",
    "- This is the proportion of the variance in the dependent variable that is predictable from the independent variables. This metric is useful for comparing the performance of these models.\n"
   ]
  },
  {
   "cell_type": "markdown",
   "metadata": {},
   "source": [
    "## Function to save the models"
   ]
  },
  {
   "cell_type": "code",
   "execution_count": 15,
   "metadata": {},
   "outputs": [],
   "source": [
    "def save_model_station_busy(model, station_number):\n",
    "    filename = f'/home/cian/Documents/GitHub/NYSeeNow-ML/SubwayData/station_busy/s_busy_model_{station_number}.pkl'\n",
    "    with open(filename, 'wb') as file:\n",
    "        pickle.dump(model, file, pickle.HIGHEST_PROTOCOL)"
   ]
  },
  {
   "cell_type": "markdown",
   "metadata": {},
   "source": [
    "### Clean the pickle dataframe \n",
    "- In order to reduce the size and time taken to run the models\n"
   ]
  },
  {
   "cell_type": "code",
   "execution_count": 16,
   "metadata": {},
   "outputs": [],
   "source": [
    "df.drop(columns=['weather'], inplace=True)\n",
    "df_pickle=df.copy()\n"
   ]
  },
  {
   "cell_type": "code",
   "execution_count": 17,
   "metadata": {},
   "outputs": [
    {
     "data": {
      "text/plain": [
       "Index(['remote_unit_id', 'time_stamp', 'entries', 'exits', 'sum_exit_entry',\n",
       "       'station_busyness', 'hour', 'day', 'month', 'temperature', 'rain_fall',\n",
       "       'snow_fall', 'station_category', 'Clear', 'Clouds', 'Drizzle', 'Fog',\n",
       "       'Haze', 'Mist', 'Rain', 'Smoke', 'Snow', 'Thunderstorm'],\n",
       "      dtype='object')"
      ]
     },
     "execution_count": 17,
     "metadata": {},
     "output_type": "execute_result"
    }
   ],
   "source": [
    "df_pickle.columns"
   ]
  },
  {
   "cell_type": "markdown",
   "metadata": {},
   "source": [
    "### Drop features of least importance: thunderstorm, haze, fog, drizzle and smoke\n"
   ]
  },
  {
   "cell_type": "code",
   "execution_count": 18,
   "metadata": {},
   "outputs": [],
   "source": [
    "#drop entries exits and timestamp from the pickle model, we wont know these to give to it, \n",
    "#and for each pickle one it cant have the other perctenage busyness\n",
    "\n",
    "df_pickle.drop(columns=['time_stamp', 'entries', 'exits','Thunderstorm', 'Haze', 'Fog','Drizzle', 'Smoke'],axis=1,inplace=True)\n"
   ]
  },
  {
   "cell_type": "code",
   "execution_count": 19,
   "metadata": {},
   "outputs": [
    {
     "data": {
      "text/plain": [
       "Index(['remote_unit_id', 'sum_exit_entry', 'station_busyness', 'hour', 'day',\n",
       "       'month', 'temperature', 'rain_fall', 'snow_fall', 'station_category',\n",
       "       'Clear', 'Clouds', 'Mist', 'Rain', 'Snow'],\n",
       "      dtype='object')"
      ]
     },
     "execution_count": 19,
     "metadata": {},
     "output_type": "execute_result"
    }
   ],
   "source": [
    "df_pickle.columns"
   ]
  },
  {
   "cell_type": "code",
   "execution_count": 20,
   "metadata": {},
   "outputs": [
    {
     "name": "stdout",
     "output_type": "stream",
     "text": [
      "<class 'pandas.core.frame.DataFrame'>\n",
      "RangeIndex: 287399 entries, 0 to 287398\n",
      "Data columns (total 15 columns):\n",
      " #   Column            Non-Null Count   Dtype  \n",
      "---  ------            --------------   -----  \n",
      " 0   remote_unit_id    287399 non-null  int64  \n",
      " 1   sum_exit_entry    287399 non-null  int64  \n",
      " 2   station_busyness  287399 non-null  int64  \n",
      " 3   hour              287399 non-null  int64  \n",
      " 4   day               287399 non-null  int64  \n",
      " 5   month             287399 non-null  int64  \n",
      " 6   temperature       287399 non-null  float64\n",
      " 7   rain_fall         287399 non-null  float64\n",
      " 8   snow_fall         287399 non-null  float64\n",
      " 9   station_category  287399 non-null  int64  \n",
      " 10  Clear             287399 non-null  uint8  \n",
      " 11  Clouds            287399 non-null  uint8  \n",
      " 12  Mist              287399 non-null  uint8  \n",
      " 13  Rain              287399 non-null  uint8  \n",
      " 14  Snow              287399 non-null  uint8  \n",
      "dtypes: float64(3), int64(7), uint8(5)\n",
      "memory usage: 23.3 MB\n"
     ]
    }
   ],
   "source": [
    "df_pickle.info()"
   ]
  },
  {
   "cell_type": "code",
   "execution_count": 21,
   "metadata": {},
   "outputs": [
    {
     "data": {
      "text/plain": [
       "Clear     133598\n",
       "Clouds     75600\n",
       "Mist       17562\n",
       "Rain       48114\n",
       "Snow        3960\n",
       "dtype: int64"
      ]
     },
     "execution_count": 21,
     "metadata": {},
     "output_type": "execute_result"
    }
   ],
   "source": [
    "#count the occurances of 1 in the following columns: Clear, Clouds, Drizzle, Fog etc\n",
    "occurrences = df[['Clear', 'Clouds', 'Mist','Rain','Snow']].sum(axis=0)\n",
    "occurrences\n"
   ]
  },
  {
   "cell_type": "markdown",
   "metadata": {},
   "source": [
    "## Execute the models"
   ]
  },
  {
   "cell_type": "markdown",
   "metadata": {},
   "source": [
    "### Get station numbers"
   ]
  },
  {
   "cell_type": "code",
   "execution_count": 22,
   "metadata": {},
   "outputs": [
    {
     "data": {
      "text/plain": [
       "143"
      ]
     },
     "execution_count": 22,
     "metadata": {},
     "output_type": "execute_result"
    }
   ],
   "source": [
    "df_static = pd.read_csv('cleaned_station_data.csv')\n",
    "check=df_static[\"remote_unit_id\"]\n",
    "order=check.tolist()\n",
    "#now order the stations\n",
    "order.sort()\n",
    "#order\n",
    "len(order)"
   ]
  },
  {
   "cell_type": "markdown",
   "metadata": {},
   "source": [
    "## Code that runs and saves the models"
   ]
  },
  {
   "cell_type": "markdown",
   "metadata": {},
   "source": [
    "- Keep the save commented to save writing the new models again"
   ]
  },
  {
   "cell_type": "code",
   "execution_count": 23,
   "metadata": {},
   "outputs": [
    {
     "name": "stdout",
     "output_type": "stream",
     "text": [
      "Average Mean Absolute Error : 8.119411\n",
      "Average Mean Absolute Percentage Error : 2.544388\n",
      "Average Median Absolute Error : 1.435137\n",
      "Average Median Absolute Percentage Error : 0.090514\n",
      "Average Relative Root Mean Squared Error : 0.753706\n",
      "R squared test score : 0.769508\n"
     ]
    }
   ],
   "source": [
    "for station_number in df['remote_unit_id'].unique():\n",
    "    df_station, x_train, y_train, x_test, y_test = divide_data_station_busy(station_number, df_pickle)\n",
    "    #print(df_station)\n",
    "    model = forest_training_model(x_train, y_train, x_test, y_test)\n",
    "    #save_model_station_busy(model, station_number)\n",
    "\n",
    "    #get importances\n",
    "    station_importance = pd.DataFrame({'feature': df_station.columns, 'importance':model.feature_importances_})\n",
    "    station_importance.sort_values('importance', ascending=False)\n",
    "\n",
    "    #have a mean importance value for each feature\n",
    "    station_importance['importance'].mean()\n",
    "    \n",
    "#print average scores\n",
    "print(f\"Average Mean Absolute Error : {np.mean(test_mae_list):.6f}\")\n",
    "print(f\"Average Mean Absolute Percentage Error : {np.mean(test_mape_list):.6f}\")\n",
    "print(f\"Average Median Absolute Error : {np.mean(test_medae_list):.6f}\")\n",
    "print(f\"Average Median Absolute Percentage Error : {np.mean(test_median_ape_list):.6f}\")\n",
    "print(f\"Average Relative Root Mean Squared Error : {np.mean(test_rrmse_list):.6f}\")\n",
    "print(f\"R squared test score : {np.mean(test_score_list):.6f}\")\n"
   ]
  },
  {
   "cell_type": "code",
   "execution_count": 24,
   "metadata": {},
   "outputs": [],
   "source": [
    "#compare the actual values with the predicted values:\n",
    "df_compare = pd.DataFrame({'Actual': actual_pred, 'Predicted': test_pred})"
   ]
  },
  {
   "cell_type": "code",
   "execution_count": 25,
   "metadata": {},
   "outputs": [
    {
     "data": {
      "text/html": [
       "<div>\n",
       "<style scoped>\n",
       "    .dataframe tbody tr th:only-of-type {\n",
       "        vertical-align: middle;\n",
       "    }\n",
       "\n",
       "    .dataframe tbody tr th {\n",
       "        vertical-align: top;\n",
       "    }\n",
       "\n",
       "    .dataframe thead th {\n",
       "        text-align: right;\n",
       "    }\n",
       "</style>\n",
       "<table border=\"1\" class=\"dataframe\">\n",
       "  <thead>\n",
       "    <tr style=\"text-align: right;\">\n",
       "      <th></th>\n",
       "      <th>Actual</th>\n",
       "      <th>Predicted</th>\n",
       "    </tr>\n",
       "  </thead>\n",
       "  <tbody>\n",
       "    <tr>\n",
       "      <th>0</th>\n",
       "      <td>[0, 0, 0, 0, 0, 0, 60, 0, 0, 0, 0, 0, 0, 0, 0,...</td>\n",
       "      <td>[24.962297273982053, 0.0, 12.982007575757574, ...</td>\n",
       "    </tr>\n",
       "    <tr>\n",
       "      <th>1</th>\n",
       "      <td>[20, 0, 10, 10, 50, 0, 100, 0, 0, 60, 0, 10, 7...</td>\n",
       "      <td>[25.039466706443562, 1.2541666666666669, 5.944...</td>\n",
       "    </tr>\n",
       "    <tr>\n",
       "      <th>2</th>\n",
       "      <td>[0, 100, 90, 0, 100, 0, 0, 100, 0, 0, 0, 0, 10...</td>\n",
       "      <td>[0.5000104590443532, 78.30732778279082, 77.409...</td>\n",
       "    </tr>\n",
       "    <tr>\n",
       "      <th>3</th>\n",
       "      <td>[0, 10, 0, 0, 100, 0, 20, 100, 0, 0, 40, 0, 10...</td>\n",
       "      <td>[5.716096126729368, 35.77708333333334, 0.0, 0....</td>\n",
       "    </tr>\n",
       "    <tr>\n",
       "      <th>4</th>\n",
       "      <td>[0, 20, 100, 0, 0, 20, 0, 0, 50, 0, 100, 0, 0,...</td>\n",
       "      <td>[0.0, 23.94944283657519, 79.27678571428572, 0....</td>\n",
       "    </tr>\n",
       "    <tr>\n",
       "      <th>5</th>\n",
       "      <td>[0, 0, 20, 0, 20, 0, 50, 100, 0, 0, 0, 100, 0,...</td>\n",
       "      <td>[0.0, 0.0, 34.13530792363713, 41.8615128064947...</td>\n",
       "    </tr>\n",
       "    <tr>\n",
       "      <th>6</th>\n",
       "      <td>[0, 0, 0, 90, 0, 80, 0, 0, 100, 0, 0, 0, 0, 0,...</td>\n",
       "      <td>[21.61891391757859, 0.0, 0.0, 27.7556409565105...</td>\n",
       "    </tr>\n",
       "    <tr>\n",
       "      <th>7</th>\n",
       "      <td>[100, 100, 0, 100, 0, 100, 0, 0, 0, 0, 0, 100,...</td>\n",
       "      <td>[98.82261626795612, 88.89786567599069, 3.19753...</td>\n",
       "    </tr>\n",
       "    <tr>\n",
       "      <th>8</th>\n",
       "      <td>[0, 0, 0, 0, 0, 0, 0, 100, 0, 100, 0, 100, 0, ...</td>\n",
       "      <td>[6.088075660943277, 0.0, 0.0, 0.0, 8.646428571...</td>\n",
       "    </tr>\n",
       "    <tr>\n",
       "      <th>9</th>\n",
       "      <td>[100, 10, 0, 0, 100, 0, 100, 100, 70, 0, 100, ...</td>\n",
       "      <td>[96.67374199260512, 13.71640888727286, 0.125, ...</td>\n",
       "    </tr>\n",
       "  </tbody>\n",
       "</table>\n",
       "</div>"
      ],
      "text/plain": [
       "                                              Actual  \\\n",
       "0  [0, 0, 0, 0, 0, 0, 60, 0, 0, 0, 0, 0, 0, 0, 0,...   \n",
       "1  [20, 0, 10, 10, 50, 0, 100, 0, 0, 60, 0, 10, 7...   \n",
       "2  [0, 100, 90, 0, 100, 0, 0, 100, 0, 0, 0, 0, 10...   \n",
       "3  [0, 10, 0, 0, 100, 0, 20, 100, 0, 0, 40, 0, 10...   \n",
       "4  [0, 20, 100, 0, 0, 20, 0, 0, 50, 0, 100, 0, 0,...   \n",
       "5  [0, 0, 20, 0, 20, 0, 50, 100, 0, 0, 0, 100, 0,...   \n",
       "6  [0, 0, 0, 90, 0, 80, 0, 0, 100, 0, 0, 0, 0, 0,...   \n",
       "7  [100, 100, 0, 100, 0, 100, 0, 0, 0, 0, 0, 100,...   \n",
       "8  [0, 0, 0, 0, 0, 0, 0, 100, 0, 100, 0, 100, 0, ...   \n",
       "9  [100, 10, 0, 0, 100, 0, 100, 100, 70, 0, 100, ...   \n",
       "\n",
       "                                           Predicted  \n",
       "0  [24.962297273982053, 0.0, 12.982007575757574, ...  \n",
       "1  [25.039466706443562, 1.2541666666666669, 5.944...  \n",
       "2  [0.5000104590443532, 78.30732778279082, 77.409...  \n",
       "3  [5.716096126729368, 35.77708333333334, 0.0, 0....  \n",
       "4  [0.0, 23.94944283657519, 79.27678571428572, 0....  \n",
       "5  [0.0, 0.0, 34.13530792363713, 41.8615128064947...  \n",
       "6  [21.61891391757859, 0.0, 0.0, 27.7556409565105...  \n",
       "7  [98.82261626795612, 88.89786567599069, 3.19753...  \n",
       "8  [6.088075660943277, 0.0, 0.0, 0.0, 8.646428571...  \n",
       "9  [96.67374199260512, 13.71640888727286, 0.125, ...  "
      ]
     },
     "execution_count": 25,
     "metadata": {},
     "output_type": "execute_result"
    }
   ],
   "source": [
    "df_compare.head(10)"
   ]
  },
  {
   "cell_type": "code",
   "execution_count": 26,
   "metadata": {},
   "outputs": [],
   "source": [
    "y=df['station_busyness']\n",
    "X=df_pickle.drop(columns=['station_busyness', 'sum_exit_entry', 'station_category'])"
   ]
  },
  {
   "cell_type": "code",
   "execution_count": 27,
   "metadata": {},
   "outputs": [
    {
     "name": "stdout",
     "output_type": "stream",
     "text": [
      "          random                                                       \n",
      "             MAE       MAPE      MedAE     MedAPE      RRMSE         R2\n",
      "count  10.000000  10.000000  10.000000  10.000000  10.000000  10.000000\n",
      "mean   22.965148  10.998097  18.336787   5.593913   1.298286   0.349451\n",
      "std     0.050661   0.051028   0.073505   0.056775   0.004557   0.001712\n",
      "min    22.881641  10.928557  18.212443   5.512074   1.290757   0.346925\n",
      "25%    22.941246  10.951560  18.305808   5.561755   1.295283   0.348087\n",
      "50%    22.956567  11.023067  18.337321   5.580414   1.297391   0.349537\n",
      "75%    22.993604  11.031436  18.391519   5.622565   1.302610   0.350749\n",
      "max    23.063100  11.065113  18.436374   5.712771   1.304241   0.351880\n"
     ]
    }
   ],
   "source": [
    "#do a linear regression cross val\n",
    "#code taken from sample solution notebook\n",
    "model=LinearRegression\n",
    "report=cross_val_report(model, X, y, cv=10)\n",
    "print(report)"
   ]
  },
  {
   "cell_type": "code",
   "execution_count": 28,
   "metadata": {},
   "outputs": [
    {
     "name": "stdout",
     "output_type": "stream",
     "text": [
      "         random                                                  \n",
      "            MAE      MAPE     MedAE    MedAPE     RRMSE        R2\n",
      "count  3.000000  3.000000  3.000000  3.000000  3.000000  3.000000\n",
      "mean   6.987309  1.942860  0.447222  0.033296  0.676129  0.823909\n",
      "std    0.033611  0.010471  0.050231  0.002358  0.003125  0.000985\n",
      "min    6.949066  1.932762  0.400000  0.031667  0.672599  0.822831\n",
      "25%    6.974883  1.937455  0.420833  0.031944  0.674922  0.823483\n",
      "50%    7.000701  1.942149  0.441667  0.032222  0.677244  0.824134\n",
      "75%    7.006430  1.947908  0.470833  0.034111  0.677894  0.824448\n",
      "max    7.012160  1.953668  0.500000  0.036000  0.678544  0.824762\n"
     ]
    }
   ],
   "source": [
    "model=RandomForestRegressor\n",
    "report=cross_val_report(model, X, y, cv=3)\n",
    "print(report)"
   ]
  },
  {
   "cell_type": "code",
   "execution_count": 29,
   "metadata": {},
   "outputs": [
    {
     "name": "stdout",
     "output_type": "stream",
     "text": [
      "         random                                                  \n",
      "            MAE      MAPE     MedAE    MedAPE     RRMSE        R2\n",
      "count  3.000000  3.000000  3.000000  3.000000  3.000000  3.000000\n",
      "mean   9.504055  3.397046  3.826088  0.891163  0.727033  0.796379\n",
      "std    0.106500  0.030941  0.054254  0.011457  0.007768  0.004445\n",
      "min    9.397522  3.370883  3.765760  0.877938  0.722173  0.791562\n",
      "25%    9.450821  3.379970  3.803693  0.887716  0.722553  0.794408\n",
      "50%    9.504120  3.389057  3.841627  0.897495  0.722933  0.797254\n",
      "75%    9.557321  3.410127  3.856252  0.897776  0.729462  0.798787\n",
      "max    9.610522  3.431197  3.870877  0.898056  0.735991  0.800320\n"
     ]
    }
   ],
   "source": [
    "#use xgboost\n",
    "model=XGBRegressor\n",
    "report=cross_val_report(model, X, y, cv=3)\n",
    "print(report)\n"
   ]
  },
  {
   "cell_type": "code",
   "execution_count": 30,
   "metadata": {},
   "outputs": [
    {
     "name": "stdout",
     "output_type": "stream",
     "text": [
      "          random                                                  \n",
      "             MAE      MAPE     MedAE    MedAPE     RRMSE        R2\n",
      "count   3.000000  3.000000  3.000000  3.000000  3.000000  3.000000\n",
      "mean   13.160214  4.653728  7.215605  0.979702  0.958690  0.645979\n",
      "std     0.100654  0.109276  0.271045  0.025243  0.007225  0.002867\n",
      "min    13.060866  4.529618  6.911052  0.950601  0.950348  0.643166\n",
      "25%    13.109258  4.612842  7.108237  0.971705  0.956545  0.644520\n",
      "50%    13.157649  4.696067  7.305422  0.992808  0.962742  0.645875\n",
      "75%    13.209887  4.715783  7.367882  0.994252  0.962861  0.647386\n",
      "max    13.262125  4.735500  7.430341  0.995696  0.962980  0.648897\n"
     ]
    }
   ],
   "source": [
    "model=GradientBoostingRegressor\n",
    "report=cross_val_report(model, X, y, cv=3)\n",
    "print(report)"
   ]
  },
  {
   "cell_type": "markdown",
   "metadata": {},
   "source": [
    "### Reults of Cross-Validation:\n",
    "- Random forest regressor performs better than GradientBoostingRegressor, XGBoost and Linear Regression\n",
    "- Use random forest"
   ]
  },
  {
   "cell_type": "markdown",
   "metadata": {},
   "source": [
    "## Lets analyse this further- use data hmw2"
   ]
  },
  {
   "cell_type": "markdown",
   "metadata": {},
   "source": [
    "### Feature Importance for Random Forest for station busyness"
   ]
  },
  {
   "cell_type": "code",
   "execution_count": 35,
   "metadata": {},
   "outputs": [
    {
     "data": {
      "text/html": [
       "<div>\n",
       "<style scoped>\n",
       "    .dataframe tbody tr th:only-of-type {\n",
       "        vertical-align: middle;\n",
       "    }\n",
       "\n",
       "    .dataframe tbody tr th {\n",
       "        vertical-align: top;\n",
       "    }\n",
       "\n",
       "    .dataframe thead th {\n",
       "        text-align: right;\n",
       "    }\n",
       "</style>\n",
       "<table border=\"1\" class=\"dataframe\">\n",
       "  <thead>\n",
       "    <tr style=\"text-align: right;\">\n",
       "      <th></th>\n",
       "      <th>feature</th>\n",
       "      <th>importance</th>\n",
       "      <th>importance %</th>\n",
       "    </tr>\n",
       "  </thead>\n",
       "  <tbody>\n",
       "    <tr>\n",
       "      <th>0</th>\n",
       "      <td>hour</td>\n",
       "      <td>0.469056</td>\n",
       "      <td>46.91</td>\n",
       "    </tr>\n",
       "    <tr>\n",
       "      <th>1</th>\n",
       "      <td>day</td>\n",
       "      <td>0.313446</td>\n",
       "      <td>31.34</td>\n",
       "    </tr>\n",
       "    <tr>\n",
       "      <th>3</th>\n",
       "      <td>temperature</td>\n",
       "      <td>0.106310</td>\n",
       "      <td>10.63</td>\n",
       "    </tr>\n",
       "    <tr>\n",
       "      <th>2</th>\n",
       "      <td>month</td>\n",
       "      <td>0.057482</td>\n",
       "      <td>5.75</td>\n",
       "    </tr>\n",
       "    <tr>\n",
       "      <th>5</th>\n",
       "      <td>snow_fall</td>\n",
       "      <td>0.016960</td>\n",
       "      <td>1.70</td>\n",
       "    </tr>\n",
       "    <tr>\n",
       "      <th>4</th>\n",
       "      <td>rain_fall</td>\n",
       "      <td>0.011438</td>\n",
       "      <td>1.14</td>\n",
       "    </tr>\n",
       "    <tr>\n",
       "      <th>7</th>\n",
       "      <td>Clouds</td>\n",
       "      <td>0.011081</td>\n",
       "      <td>1.11</td>\n",
       "    </tr>\n",
       "    <tr>\n",
       "      <th>6</th>\n",
       "      <td>Clear</td>\n",
       "      <td>0.006425</td>\n",
       "      <td>0.64</td>\n",
       "    </tr>\n",
       "    <tr>\n",
       "      <th>8</th>\n",
       "      <td>Mist</td>\n",
       "      <td>0.004091</td>\n",
       "      <td>0.41</td>\n",
       "    </tr>\n",
       "    <tr>\n",
       "      <th>9</th>\n",
       "      <td>Rain</td>\n",
       "      <td>0.001925</td>\n",
       "      <td>0.19</td>\n",
       "    </tr>\n",
       "    <tr>\n",
       "      <th>10</th>\n",
       "      <td>Snow</td>\n",
       "      <td>0.001784</td>\n",
       "      <td>0.18</td>\n",
       "    </tr>\n",
       "  </tbody>\n",
       "</table>\n",
       "</div>"
      ],
      "text/plain": [
       "        feature  importance  importance %\n",
       "0          hour    0.469056         46.91\n",
       "1           day    0.313446         31.34\n",
       "3   temperature    0.106310         10.63\n",
       "2         month    0.057482          5.75\n",
       "5     snow_fall    0.016960          1.70\n",
       "4     rain_fall    0.011438          1.14\n",
       "7        Clouds    0.011081          1.11\n",
       "6         Clear    0.006425          0.64\n",
       "8          Mist    0.004091          0.41\n",
       "9          Rain    0.001925          0.19\n",
       "10         Snow    0.001784          0.18"
      ]
     },
     "execution_count": 35,
     "metadata": {},
     "output_type": "execute_result"
    }
   ],
   "source": [
    "#change importance column to % and no decimal places\n",
    "station_importance['importance %'] = station_importance['importance'].apply(lambda x: round(x*100, 2))\n",
    "station_importance.sort_values('importance', ascending=False)"
   ]
  },
  {
   "cell_type": "markdown",
   "metadata": {},
   "source": [
    "### Description of the models:\n",
    "- I have made a prediciton model that only need the remote unit id, which can be easily mapped from the lookup table\n",
    "- Choose tation busyness prediction by selecting the correct folder\n",
    "- Select the Remote Unit id using the cleaned_station_data.csv file\n",
    "- The model also requires the following to get the prediciton:\n",
    "- hour as an int with 0 being midnight, 1 being 1AM etc\n",
    "- day as an int with 1 being Monday etc\n",
    "- month as int with 1 being January etc\n",
    "- temperature as float in Celsius\n",
    "- rain_fall as float in mm per hour\n",
    "- snow_fall as float in mm per hour\n",
    "- Clear as a int, 1 or  0\n",
    "- Clouds as a int, 1 or  0, Mist, Rain and Snow"
   ]
  },
  {
   "cell_type": "code",
   "execution_count": null,
   "metadata": {},
   "outputs": [],
   "source": []
  },
  {
   "cell_type": "markdown",
   "metadata": {},
   "source": []
  }
 ],
 "metadata": {
  "kernelspec": {
   "display_name": "comp47530py38",
   "language": "python",
   "name": "python3"
  },
  "language_info": {
   "codemirror_mode": {
    "name": "ipython",
    "version": 3
   },
   "file_extension": ".py",
   "mimetype": "text/x-python",
   "name": "python",
   "nbconvert_exporter": "python",
   "pygments_lexer": "ipython3",
   "version": "3.8.16"
  },
  "orig_nbformat": 4
 },
 "nbformat": 4,
 "nbformat_minor": 2
}
