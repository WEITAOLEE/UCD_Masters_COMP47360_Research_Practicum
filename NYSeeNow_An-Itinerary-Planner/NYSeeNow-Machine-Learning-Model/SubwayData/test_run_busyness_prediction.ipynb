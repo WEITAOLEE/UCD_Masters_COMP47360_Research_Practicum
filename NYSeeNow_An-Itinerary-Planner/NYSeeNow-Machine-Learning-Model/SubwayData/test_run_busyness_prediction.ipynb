{
 "cells": [
  {
   "cell_type": "markdown",
   "metadata": {},
   "source": [
    "## This notebook will test how to get a result from the trained models"
   ]
  },
  {
   "cell_type": "markdown",
   "metadata": {},
   "source": [
    "### Description of the models:\n",
    "- I have made two busyness prediciton models that only need the remote unit id, which can be easily mapped from the lookup table\n",
    "- Choose surrounding area, or station busyness prediction by selecting the correct folder\n",
    "- Select the Remote Unit id using the cleaned_station_data.csv file\n",
    "- The model also requires the following to get the prediciton:\n",
    "- hour as an int with 0 being midnight, 1 being 1AM etc\n",
    "- day as an int with 1 being Monday etc\n",
    "- month as int with 1 being January etc\n",
    "- temperature as float in Celsius\n",
    "- rain_fall as float in mm per hour\n",
    "- snow_fall as float in mm per hour\n",
    "- Clear as a int, 1 or  0\n",
    "- Clouds as a int, 1 or  0\n",
    "- Same for Drizzle, Fog, Haze, Mist, Rain, Smoke, Snow and Thunderstorm"
   ]
  },
  {
   "cell_type": "code",
   "execution_count": 1,
   "metadata": {},
   "outputs": [],
   "source": [
    "import pickle\n",
    "import pandas as pd\n",
    "import numpy as np"
   ]
  },
  {
   "cell_type": "code",
   "execution_count": 2,
   "metadata": {},
   "outputs": [],
   "source": [
    "#Will need to call either future/current weather forecasts for these weather values, or else just fill them in if they have little effect on target\n",
    "''' hour day month temperature rain_fall snow_fall Clear Clouds Mist Rain Snow ''' \n",
    "X_test=[[16 ,1, 5, 15.3, 2.6, 0.0, 0, 0, 0, 0, 0]]"
   ]
  },
  {
   "cell_type": "code",
   "execution_count": 12,
   "metadata": {},
   "outputs": [],
   "source": [
    "#Load the model for that station\n",
    "#model_start_station = os.path.join(app.static_folder, 'models', f'model_{station_number}.pkl')\n",
    "station_number=10\n",
    "path=f'station_busy/s_busy_model_{station_number}.pkl'\n",
    "\n",
    "with open(path, 'rb') as handle:\n",
    "    model = pickle.load(handle)\n",
    "\n",
    "#Get the prediction\n",
    "prediction = model.predict(X_test)"
   ]
  },
  {
   "cell_type": "code",
   "execution_count": 13,
   "metadata": {},
   "outputs": [],
   "source": [
    "#Return the prediction\n",
    "#converrt it to a string\n",
    "prediction = np.array2string(prediction)\n",
    "\n",
    "#remove the square brackets\n",
    "prediction = prediction.replace('[', '')\n",
    "prediction = prediction.replace(']', '')\n",
    "#round to nearest integer\n",
    "prediction = round(float(prediction))"
   ]
  },
  {
   "cell_type": "code",
   "execution_count": 14,
   "metadata": {},
   "outputs": [
    {
     "data": {
      "text/plain": [
       "12"
      ]
     },
     "execution_count": 14,
     "metadata": {},
     "output_type": "execute_result"
    }
   ],
   "source": [
    "prediction"
   ]
  },
  {
   "cell_type": "markdown",
   "metadata": {},
   "source": [
    "## See which stations are in cleaned_station_data but do not have a corresponding pickle model\n"
   ]
  },
  {
   "cell_type": "code",
   "execution_count": 11,
   "metadata": {},
   "outputs": [
    {
     "data": {
      "text/html": [
       "<div>\n",
       "<style scoped>\n",
       "    .dataframe tbody tr th:only-of-type {\n",
       "        vertical-align: middle;\n",
       "    }\n",
       "\n",
       "    .dataframe tbody tr th {\n",
       "        vertical-align: top;\n",
       "    }\n",
       "\n",
       "    .dataframe thead th {\n",
       "        text-align: right;\n",
       "    }\n",
       "</style>\n",
       "<table border=\"1\" class=\"dataframe\">\n",
       "  <thead>\n",
       "    <tr style=\"text-align: right;\">\n",
       "      <th></th>\n",
       "      <th>station_name</th>\n",
       "      <th>lat</th>\n",
       "      <th>lon</th>\n",
       "      <th>remote_unit_id</th>\n",
       "      <th>short_name</th>\n",
       "    </tr>\n",
       "  </thead>\n",
       "  <tbody>\n",
       "    <tr>\n",
       "      <th>0</th>\n",
       "      <td>Lexington Av/59 St</td>\n",
       "      <td>40.762660</td>\n",
       "      <td>-73.967258</td>\n",
       "      <td>16</td>\n",
       "      <td>LEXINGTON-53 ST</td>\n",
       "    </tr>\n",
       "    <tr>\n",
       "      <th>1</th>\n",
       "      <td>Lexington Av/59 St</td>\n",
       "      <td>40.762660</td>\n",
       "      <td>-73.967258</td>\n",
       "      <td>17</td>\n",
       "      <td>LEXINGTON-53 ST</td>\n",
       "    </tr>\n",
       "    <tr>\n",
       "      <th>2</th>\n",
       "      <td>Lexington Av/59 St</td>\n",
       "      <td>40.762660</td>\n",
       "      <td>-73.967258</td>\n",
       "      <td>50</td>\n",
       "      <td>59 ST</td>\n",
       "    </tr>\n",
       "    <tr>\n",
       "      <th>3</th>\n",
       "      <td>Lexington Av/59 St</td>\n",
       "      <td>40.762660</td>\n",
       "      <td>-73.967258</td>\n",
       "      <td>51</td>\n",
       "      <td>59 ST</td>\n",
       "    </tr>\n",
       "    <tr>\n",
       "      <th>4</th>\n",
       "      <td>5 Av/59 St</td>\n",
       "      <td>40.764811</td>\n",
       "      <td>-73.973347</td>\n",
       "      <td>79</td>\n",
       "      <td>5 AVE-59 ST</td>\n",
       "    </tr>\n",
       "  </tbody>\n",
       "</table>\n",
       "</div>"
      ],
      "text/plain": [
       "         station_name        lat        lon  remote_unit_id       short_name\n",
       "0  Lexington Av/59 St  40.762660 -73.967258              16  LEXINGTON-53 ST\n",
       "1  Lexington Av/59 St  40.762660 -73.967258              17  LEXINGTON-53 ST\n",
       "2  Lexington Av/59 St  40.762660 -73.967258              50            59 ST\n",
       "3  Lexington Av/59 St  40.762660 -73.967258              51            59 ST\n",
       "4          5 Av/59 St  40.764811 -73.973347              79      5 AVE-59 ST"
      ]
     },
     "execution_count": 11,
     "metadata": {},
     "output_type": "execute_result"
    }
   ],
   "source": [
    "#load in cleaned_station_data.csv\n",
    "station_data=pd.read_csv('cleaned_station_data.csv')\n",
    "station_data.head()\n"
   ]
  },
  {
   "cell_type": "code",
   "execution_count": 18,
   "metadata": {},
   "outputs": [],
   "source": [
    "#store the remote unit id's in a list\n",
    "r_id=station_data['remote_unit_id'].unique().tolist()\n",
    "len(r_id)\n",
    "#extract all the station numbers that have a pickle model in staion_busy directory\n",
    "for i in range(len(r_id)):\n",
    "    try:\n",
    "        pickle.load(open('station_busy/s_busy_model_'+str(r_id[i])+'.pkl','rb'))\n",
    "    except:\n",
    "        print(i,r_id[i])\n"
   ]
  },
  {
   "cell_type": "code",
   "execution_count": 17,
   "metadata": {},
   "outputs": [],
   "source": [
    "#drop station id of 2 from the cleaned station data\n",
    "station_data=station_data[station_data['remote_unit_id']!=2]"
   ]
  },
  {
   "cell_type": "code",
   "execution_count": 19,
   "metadata": {},
   "outputs": [],
   "source": [
    "#export this new data set to csv\n",
    "station_data.to_csv('cleaned_station_data.csv', index=False)"
   ]
  },
  {
   "cell_type": "code",
   "execution_count": null,
   "metadata": {},
   "outputs": [],
   "source": []
  }
 ],
 "metadata": {
  "kernelspec": {
   "display_name": "comp47530py38",
   "language": "python",
   "name": "python3"
  },
  "language_info": {
   "codemirror_mode": {
    "name": "ipython",
    "version": 3
   },
   "file_extension": ".py",
   "mimetype": "text/x-python",
   "name": "python",
   "nbconvert_exporter": "python",
   "pygments_lexer": "ipython3",
   "version": "3.8.16"
  },
  "orig_nbformat": 4
 },
 "nbformat": 4,
 "nbformat_minor": 2
}
