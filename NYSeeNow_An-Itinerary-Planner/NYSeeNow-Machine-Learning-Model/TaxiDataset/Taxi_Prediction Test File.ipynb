{
 "cells": [
  {
   "cell_type": "markdown",
   "id": "f3906a5a",
   "metadata": {},
   "source": [
    "- I created a busyness prediction model for the Taxi Dataset. This model will need the Taxi Zone which can easily be mapped from a lookup table. The Taxi Zones Numbers are: '4,12,13,24,41,42,43,45,48,50,68,74,75,79,87,88,90,100,103,104,105,107,113,114,116,120,125,127,128,137,140,141,142,143,144,148,151,152,153,158,161,162,163,164,166,170,186,194,202,209,211,224,229,230,231,232,233,234,236,237,238,239,243,244,246,249,261,262,263'\n",
    "\n",
    "\n",
    "- The model requires the following features to get a prediction\n",
"\n",
    "            - DOLocation ID (Taxi Zones)\n",
"\n",
    "            - Drop_Off hour - INT  - 0-23 - 0 being Midnight and 23 Being 11pm\n",
"\n",
    "            - Dropoff_day_number - also INT - 1 to 7, 1 being Monday etc\n",
"\n",
    "            - Dropoff_month - as int - 1 being Jan etc. \n",
    "            \n",
    "            \n",
    "            \n",
    " \n"
   ]
  },
  {
   "cell_type": "code",
   "execution_count": 17,
   "id": "97d15844",
   "metadata": {},
   "outputs": [],
   "source": [
    "import pickle\n",
    "import pandas as pd\n",
    "import joblib\n"
   ]
  },
  {
   "cell_type": "code",
   "execution_count": 10,
   "id": "c9055eca",
   "metadata": {},
   "outputs": [],
   "source": [
    "pickled_model = pickle.load(open('./taxi_model_%_busyness.pkl','rb'))"
   ]
  },
  {
   "cell_type": "code",
   "execution_count": 12,
   "id": "127d3d9f",
   "metadata": {},
   "outputs": [
    {
     "name": "stdout",
     "output_type": "stream",
     "text": [
      "<class 'numpy.ndarray'>\n"
     ]
    }
   ],
   "source": [
    "print(type(pickled_model))\n"
   ]
  },
  {
   "cell_type": "code",
   "execution_count": 20,
   "id": "66f59370",
   "metadata": {
    "scrolled": true
   },
   "outputs": [],
   "source": [
    "dummy_data = {\n",
    "    'DOLocationID': [4],\n",
    "    'dropoff_hour': [16],\n",
    "    'dropoff_month': [7],\n",
    "    'dropoff_day_number': [2]\n",
    "}            "
   ]
  },
  {
   "cell_type": "code",
   "execution_count": 21,
   "id": "5e1ddb4a",
   "metadata": {},
   "outputs": [
    {
     "data": {
      "text/plain": [
       "array([93.3735498])"
      ]
     },
     "execution_count": 21,
     "metadata": {},
     "output_type": "execute_result"
    }
   ],
   "source": [
    "model = joblib.load('taxi_model_%_busyness.pkl')\n",
    "model.predict(dummy_data)"
   ]
  },
  {
   "cell_type": "code",
   "execution_count": null,
   "id": "f108085f",
   "metadata": {},
   "outputs": [],
   "source": []
  }
 ],
 "metadata": {
  "kernelspec": {
   "display_name": "Python 3 (ipykernel)",
   "language": "python",
   "name": "python3"
  },
  "language_info": {
   "codemirror_mode": {
    "name": "ipython",
    "version": 3
   },
   "file_extension": ".py",
   "mimetype": "text/x-python",
   "name": "python",
   "nbconvert_exporter": "python",
   "pygments_lexer": "ipython3",
   "version": "3.9.13"
  }
 },
 "nbformat": 4,
 "nbformat_minor": 5
}
