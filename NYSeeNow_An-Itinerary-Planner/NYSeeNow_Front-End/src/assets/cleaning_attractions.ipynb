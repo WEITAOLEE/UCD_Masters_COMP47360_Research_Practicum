{
 "cells": [
  {
   "cell_type": "code",
   "execution_count": 2,
   "metadata": {},
   "outputs": [
    {
     "name": "stdout",
     "output_type": "stream",
     "text": [
      "Filtered GeoJSON data has been saved to \"filtered_geojson_file.json\"\n"
     ]
    }
   ],
   "source": [
    "import json\n",
    "\n",
    "# Load the GeoJSON data from the file\n",
    "with open('cleaned_attracions.json') as file:\n",
    "    data = json.load(file)\n",
    "\n",
    "# Function to filter features based on a condition\n",
    "def filter_coordinates(feature):\n",
    "    # Here, you can set your condition to drop unwanted coordinates.\n",
    "    # For example, we will drop the coordinates with latitude < 40.75.\n",
    "    return feature['geometry']['coordinates'][0] >= -90\n",
    "\n",
    "# Filter the features based on the condition\n",
    "filtered_features = [feature for feature in data['features'] if filter_coordinates(feature)]\n",
    "\n",
    "# Create a new GeoJSON object with the filtered features\n",
    "filtered_geojson = {\n",
    "    'type': 'FeatureCollection',\n",
    "    'crs': data['crs'],\n",
    "    'features': filtered_features\n",
    "}\n",
    "\n",
    "# Save the filtered GeoJSON data to a new file\n",
    "with open('filtered_attractions.json', 'w') as outfile:\n",
    "    json.dump(filtered_geojson, outfile, indent=4)\n",
    "\n",
    "print('Filtered GeoJSON data has been saved to \"filtered_geojson_file.json\"')\n",
    "\n"
   ]
  },
  {
   "cell_type": "code",
   "execution_count": null,
   "metadata": {},
   "outputs": [],
   "source": []
  },
  {
   "cell_type": "code",
   "execution_count": null,
   "metadata": {},
   "outputs": [],
   "source": []
  }
 ],
 "metadata": {
  "kernelspec": {
   "display_name": "comp47530py38",
   "language": "python",
   "name": "python3"
  },
  "language_info": {
   "codemirror_mode": {
    "name": "ipython",
    "version": 3
   },
   "file_extension": ".py",
   "mimetype": "text/x-python",
   "name": "python",
   "nbconvert_exporter": "python",
   "pygments_lexer": "ipython3",
   "version": "3.8.16"
  },
  "orig_nbformat": 4
 },
 "nbformat": 4,
 "nbformat_minor": 2
}
